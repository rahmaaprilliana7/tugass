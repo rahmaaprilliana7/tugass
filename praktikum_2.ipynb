{
  "nbformat": 4,
  "nbformat_minor": 0,
  "metadata": {
    "colab": {
      "provenance": []
    },
    "kernelspec": {
      "name": "python3",
      "display_name": "Python 3"
    },
    "language_info": {
      "name": "python"
    }
  },
  "cells": [
    {
      "cell_type": "markdown",
      "source": [
        "Praktikum 01 – Pengenalan Variabel dan Tipe Data"
      ],
      "metadata": {
        "id": "3IcLSg3h8Gx_"
      }
    },
    {
      "cell_type": "code",
      "execution_count": null,
      "metadata": {
        "colab": {
          "base_uri": "https://localhost:8080/"
        },
        "id": "blfylWPJ7JOv",
        "outputId": "d7535d18-a533-41ee-abf0-a2d2d957c345"
      },
      "outputs": [
        {
          "output_type": "stream",
          "name": "stdout",
          "text": [
            "umur: 20 = <class 'int'>\n",
            "tinggi 170.5 = <class 'float'>\n",
            "nama andi = <class 'str'>\n",
            "status mahasiswa: True = <class 'bool'>\n",
            "nilai: [80, 85, 90] = <class 'list'>\n",
            "koordinat: (10, 20) = <class 'tuple'>\n",
            "data mahasiswa: {'nama': 'andi', 'umur': 20, 'prodi': 'TRK'} = <class 'dict'>\n",
            "hobi: {'membaca', 'olahraga', 'musik'} = <class 'set'>\n"
          ]
        }
      ],
      "source": [
        "#integer\n",
        "umur = 20\n",
        "print ( \"umur:\", umur, \"=\", type(umur))\n",
        "\n",
        "#float\n",
        "tinggi = 170.5\n",
        "print (\"tinggi\", tinggi, \"=\", type(tinggi))\n",
        "\n",
        "#string\n",
        "nama ='andi'\n",
        "print (\"nama\", nama, \"=\", type(nama))\n",
        "\n",
        "#boolean\n",
        "is_mahasiswa = True\n",
        "print('status mahasiswa:', is_mahasiswa, \"=\", type(is_mahasiswa))\n",
        "\n",
        "#list\n",
        "nilai = [80, 85, 90]\n",
        "print('nilai:', nilai, \"=\", type (nilai))\n",
        "\n",
        "#tuple\n",
        "koordinat = (10,20)\n",
        "print (\"koordinat:\", koordinat, \"=\", type (koordinat))\n",
        "\n",
        "#dictionary\n",
        "mahasiswa = {\"nama\": \"andi\", \"umur\": 20, \"prodi\": \"TRK\"}\n",
        "print('data mahasiswa:', mahasiswa, \"=\", type(mahasiswa))\n",
        "\n",
        "#set\n",
        "hobi = {\"membaca\", \"olahraga\", \"musik\"}\n",
        "print(\"hobi:\", hobi, \"=\", type(hobi))"
      ]
    },
    {
      "cell_type": "markdown",
      "source": [
        "Praktikum 02 – Input dan Output Dasar"
      ],
      "metadata": {
        "id": "pdg6kwaJEZ8K"
      }
    },
    {
      "cell_type": "code",
      "source": [
        "#input string\n",
        "nama = input(\"masukkan nama anda:\")\n",
        "\n",
        "#input integer\n",
        "umur = int(input(\"masukkan umur anda: \"))\n",
        "\n",
        "#input float\n",
        "tinggi = float(input(\"masukkan tinggi badan (cm): \"))\n",
        "\n",
        "#output standar\n",
        "print (\"halo,\", nama, \"umur anda:\", umur, 'tahun,tinggi:', tinggi,\"cm\" )\n"
      ],
      "metadata": {
        "colab": {
          "base_uri": "https://localhost:8080/"
        },
        "id": "igxk2I4Q80E1",
        "outputId": "49c246ea-8085-42f4-a9ad-12fc6a54cf6c"
      },
      "execution_count": null,
      "outputs": [
        {
          "output_type": "stream",
          "name": "stdout",
          "text": [
            "masukkan nama anda:dodo\n",
            "masukkan umur anda: 32\n",
            "masukkan tinggi badan (cm): 110\n",
            "halo, dodo umur anda: 32 tahun,tinggi: 110.0 cm\n"
          ]
        }
      ]
    },
    {
      "cell_type": "markdown",
      "source": [
        "Praktikum 03 – Operator Aritmatika"
      ],
      "metadata": {
        "id": "_qn5PeZlJj3j"
      }
    },
    {
      "cell_type": "code",
      "source": [
        "a = 15\n",
        "b = 4\n",
        "\n",
        "print (\"a + b =\", a+b)\n",
        "print (\"a - b =\", a-b)\n",
        "print (\"a * b =\", a*b)\n",
        "print (\"a / b =\", a/b)\n",
        "print (\"a // b =\", a//b)\n",
        "print (\"a % b =\", a%b)\n",
        "print (\"a ** b =\", a**b)"
      ],
      "metadata": {
        "colab": {
          "base_uri": "https://localhost:8080/"
        },
        "id": "IgOThu6IJjcw",
        "outputId": "6f10eafe-470d-4e05-89a1-aa54b923a3b8"
      },
      "execution_count": null,
      "outputs": [
        {
          "output_type": "stream",
          "name": "stdout",
          "text": [
            "a + b = 19\n",
            "a - b = 11\n",
            "a * b = 60\n",
            "a / b = 3.75\n",
            "a // b = 3\n",
            "a % b = 3\n",
            "a ** b = 50625\n"
          ]
        }
      ]
    },
    {
      "cell_type": "markdown",
      "source": [
        "Praktikum 04 – Operator Relasional"
      ],
      "metadata": {
        "id": "LHF7fwHkHyDC"
      }
    },
    {
      "cell_type": "code",
      "source": [
        "x = 10\n",
        "y = 20\n",
        "\n",
        "print(\"x == y:\", x == y)\n",
        "print(\"x != y :\", x != y)\n",
        "print (\"x < y :\", x < y)\n",
        "print (\"x > y :\", x > y)\n",
        "print ('x <= y:', x <= y)\n",
        "print ('x >= y:', x >= y)"
      ],
      "metadata": {
        "id": "wh6ZgAnWE3SJ",
        "colab": {
          "base_uri": "https://localhost:8080/"
        },
        "outputId": "8be4bcaf-fcc4-4596-8e87-0b4f26e0c312"
      },
      "execution_count": null,
      "outputs": [
        {
          "output_type": "stream",
          "name": "stdout",
          "text": [
            "x == y: False\n",
            "x != y : True\n",
            "x < y : True\n",
            "x > y : False\n",
            "x <= y: True\n",
            "x >= y: False\n"
          ]
        }
      ]
    },
    {
      "cell_type": "markdown",
      "source": [
        "Praktikum 05 – Operator Logika dengan Studi Kasus Nyata"
      ],
      "metadata": {
        "id": "YEBmzLZeLHF9"
      }
    },
    {
      "cell_type": "code",
      "source": [
        "#oprator logika dasar\n",
        "a = True\n",
        "b = False\n",
        "\n",
        "print (\"a and b =\", a and b)\n",
        "print (\"a or b =\", a or b)\n",
        "print(\"not a =\", not a)\n",
        "\n",
        "#studi kasus nyata: kelulusan\n",
        "nilai= int(input(\"masukkan nilai ujian:\"))\n",
        "hadir=int(input(\"masukkan jumlah kehadiran:\"))\n",
        "\n",
        "lulus_nilai = nilai >= 60\n",
        "lulus_hadir = hadir >= 12 # dari 16 pertemuan\n",
        "\n",
        "if lulus_nilai and lulus_hadir:\n",
        "  print(\"status: LULUS\")\n",
        "\n",
        "else:\n",
        "  print (\"status: TIDAK LULUS\")"
      ],
      "metadata": {
        "colab": {
          "base_uri": "https://localhost:8080/"
        },
        "id": "Hb2wFRpTIYeg",
        "outputId": "53a65b02-c1e7-48e5-e1af-8f5fd66e549d"
      },
      "execution_count": null,
      "outputs": [
        {
          "output_type": "stream",
          "name": "stdout",
          "text": [
            "a and b = False\n",
            "a or b = True\n",
            "not a = False\n",
            "masukkan nilai ujian:34\n",
            "masukkan jumlah kehadiran:16\n",
            "status: TIDAK LULUS\n"
          ]
        }
      ]
    },
    {
      "cell_type": "markdown",
      "source": [
        "Praktikum 06 – Program Kasir Sederhana"
      ],
      "metadata": {
        "id": "W394Wcr4hQjk"
      }
    },
    {
      "cell_type": "code",
      "source": [
        "barang = input(\"nama barang\")\n",
        "harga = float (input('harga barang: '))\n",
        "jumlah = int (input ('jumlah barang: '))\n",
        "\n",
        "total = harga * jumlah\n",
        "\n",
        "#aturan diskon\n",
        "if total >= 500000:\n",
        "    diskon = 0.2\n",
        "elif total >= 250000:\n",
        "    diskon = 0.1\n",
        "else:\n",
        "    diskon = 0\n",
        "\n",
        "potongan = total * diskon\n",
        "bayar = total-potongan\n",
        "\n",
        "print (\"\\n ===== Struk belanja ======\")\n",
        "print (f'barang : {barang}')\n",
        "print (f'jumlah : {total}')\n",
        "print (f'total : Rp {total}')\n",
        "print (f'diskon : {diskon * 100}%')\n",
        "print(f'bayar : Rp {bayar}')"
      ],
      "metadata": {
        "id": "fvr83aHLNDr5",
        "colab": {
          "base_uri": "https://localhost:8080/"
        },
        "outputId": "fabeff40-a801-4169-9f8e-029db123ad7c"
      },
      "execution_count": null,
      "outputs": [
        {
          "output_type": "stream",
          "name": "stdout",
          "text": [
            "nama barangnyam\n",
            "harga barang: 2500\n",
            "jumlah barang: 4780\n",
            "\n",
            " ===== Struk belanja ======\n",
            "barang : nyam\n",
            "jumlah : 11950000.0\n",
            "total : Rp 11950000.0\n",
            "diskon : 20.0%\n",
            "bayar : Rp 9560000.0\n"
          ]
        }
      ]
    },
    {
      "cell_type": "code",
      "source": [],
      "metadata": {
        "id": "x8q9_xdBuz_2"
      },
      "execution_count": null,
      "outputs": []
    }
  ]
}