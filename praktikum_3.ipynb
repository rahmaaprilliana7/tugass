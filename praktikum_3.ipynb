{
  "nbformat": 4,
  "nbformat_minor": 0,
  "metadata": {
    "colab": {
      "provenance": []
    },
    "kernelspec": {
      "name": "python3",
      "display_name": "Python 3"
    },
    "language_info": {
      "name": "python"
    }
  },
  "cells": [
    {
      "cell_type": "markdown",
      "source": [
        "1. Struktur if"
      ],
      "metadata": {
        "id": "8RPij9bl2Xq3"
      }
    },
    {
      "cell_type": "code",
      "execution_count": 120,
      "metadata": {
        "colab": {
          "base_uri": "https://localhost:8080/"
        },
        "id": "lqppIJpzxaPt",
        "outputId": "c080eaaf-e562-4289-bc63-9a2664c8e074"
      },
      "outputs": [
        {
          "output_type": "stream",
          "name": "stdout",
          "text": [
            "masukkan nilai: 70\n",
            "lulus\n"
          ]
        }
      ],
      "source": [
        "#algoritma cek lulus if\n",
        "nilai = int(input('masukkan nilai: '))\n",
        "if nilai >= 60:\n",
        "    print('lulus')"
      ]
    },
    {
      "cell_type": "markdown",
      "source": [
        "2. Struktur If-Else"
      ],
      "metadata": {
        "id": "VOGT7ft74mWg"
      }
    },
    {
      "cell_type": "code",
      "source": [
        "#algoritma cek lulus else if\n",
        "nilai = int(input('masukkan nilai: '))\n",
        "if nilai >= 60:\n",
        "    print('lulus')\n",
        "else:\n",
        "    print('tidak lulus')"
      ],
      "metadata": {
        "colab": {
          "base_uri": "https://localhost:8080/"
        },
        "id": "sgHsSRt22i2h",
        "outputId": "40a36c0f-b755-4ecf-ea3e-b95326f05bdb"
      },
      "execution_count": 121,
      "outputs": [
        {
          "output_type": "stream",
          "name": "stdout",
          "text": [
            "masukkan nilai: 50\n",
            "tidak lulus\n"
          ]
        }
      ]
    },
    {
      "cell_type": "markdown",
      "source": [
        "3. Struktur If-Elif-Else"
      ],
      "metadata": {
        "id": "3Su8Qry07ZUk"
      }
    },
    {
      "cell_type": "code",
      "source": [
        "78\n",
        "#algoritma cek grade nilai\n",
        "nilai = int (input('masukkan nilai: '))\n",
        "grade = {}\n",
        "\n",
        "if nilai >= 85:\n",
        "  grade = 'A'\n",
        "elif nilai >= 70:\n",
        "  grade = 'B'\n",
        "elif nilai >= 55:\n",
        "  grade ='C'\n",
        "elif nilai >= 40:\n",
        "  grade = 'D'\n",
        "else:\n",
        "  grade = 'E'\n",
        "\n",
        "print (f'nilai anda: {nilai} grade: {grade}')"
      ],
      "metadata": {
        "colab": {
          "base_uri": "https://localhost:8080/"
        },
        "id": "oTheukow6U1E",
        "outputId": "b29dad61-3477-49f3-b5f5-fdda0349216a"
      },
      "execution_count": 122,
      "outputs": [
        {
          "output_type": "stream",
          "name": "stdout",
          "text": [
            "masukkan nilai: 78\n",
            "nilai anda: 78 grade: B\n"
          ]
        }
      ]
    },
    {
      "cell_type": "markdown",
      "source": [
        "4. Nested If"
      ],
      "metadata": {
        "id": "VmwaNNnnSnMK"
      }
    },
    {
      "cell_type": "code",
      "source": [
        "#algoritma cek beasiswa\n",
        "ipk = float(input(\"masukkan ipk anda: \"))\n",
        "sks = int(input(\"masukkan sks anda: \"))\n",
        "\n",
        "if ipk >= 3.0:\n",
        "  if sks >= 18:\n",
        "    print('layak beasiswa')\n",
        "  else:\n",
        "    print('ipk memenuhi, sks kurang')\n",
        "else:\n",
        "  print(\"tidak memenuhi syarat, ipk kurang\")\n"
      ],
      "metadata": {
        "colab": {
          "base_uri": "https://localhost:8080/"
        },
        "id": "fjeBuFrgNQHI",
        "outputId": "46546d6e-4db9-45d6-95f9-b86faeee103c"
      },
      "execution_count": 127,
      "outputs": [
        {
          "output_type": "stream",
          "name": "stdout",
          "text": [
            "masukkan ipk anda: 2.8\n",
            "masukkan sks anda: 20\n",
            "tidak memenuhi syarat, ipk kurang\n"
          ]
        }
      ]
    },
    {
      "cell_type": "markdown",
      "source": [
        "Praktikum 05 – Match-Case"
      ],
      "metadata": {
        "id": "IJrOWAUbdO5X"
      }
    },
    {
      "cell_type": "code",
      "source": [
        "#algoritma pilh menu\n",
        "\n",
        "menu = int(input(\"masukkan kode menu (1-3): \"))\n",
        "\n",
        "match menu:\n",
        "  case 1:\n",
        "    print('nasi goreng')\n",
        "\n",
        "  case 2:\n",
        "    print('mie ayam')\n",
        "\n",
        "  case 3:\n",
        "    print('soto ayam')\n",
        "\n",
        "  case _:\n",
        "    print('tidak tersedia')"
      ],
      "metadata": {
        "id": "--HkRQnw-_rY",
        "colab": {
          "base_uri": "https://localhost:8080/"
        },
        "outputId": "8265015e-3de6-47c7-b7c6-903d82ade86a"
      },
      "execution_count": 130,
      "outputs": [
        {
          "output_type": "stream",
          "name": "stdout",
          "text": [
            "masukkan kode menu (1-3): 9\n",
            "tidak tersedia\n"
          ]
        }
      ]
    },
    {
      "cell_type": "markdown",
      "source": [
        "program kasir"
      ],
      "metadata": {
        "id": "l6g9Jok-A7VG"
      }
    },
    {
      "cell_type": "code",
      "source": [
        "barang = input(\"nama barang: \")\n",
        "harga = float (input('harga barang: '))\n",
        "jumlah = int (input ('jumlah barang: '))\n",
        "\n",
        "total = harga * jumlah\n",
        "\n",
        "#aturan diskon\n",
        "if total >= 500000:\n",
        "    diskon = 0.2\n",
        "elif total >= 250000:\n",
        "    diskon = 0.1\n",
        "else:\n",
        "    diskon = 0\n",
        "\n",
        "potongan = total * diskon\n",
        "bayar = total-potongan\n",
        "\n",
        "print (\"\\n ===== Struk belanja ======\")\n",
        "print (f'barang : {barang}')\n",
        "print (f'jumlah : {total}')\n",
        "print (f'total : Rp {total}')\n",
        "print (f'diskon : {diskon * 100}%')\n",
        "print(f'bayar : Rp {bayar}')"
      ],
      "metadata": {
        "id": "j0Z0Y8eAA5qZ"
      },
      "execution_count": null,
      "outputs": []
    },
    {
      "cell_type": "markdown",
      "source": [
        "6. If dengan Operator Logika"
      ],
      "metadata": {
        "id": "BGizA380gEoA"
      }
    },
    {
      "cell_type": "code",
      "source": [
        "nilai = float(input('masukkan nilai: '))\n",
        "hadir = int(input('masukkan jumlah kehadiran:'))\n",
        "\n",
        "A = (nilai >= 60)\n",
        "B = (hadir >= 12)\n",
        "\n",
        "if A and B:\n",
        "  print('lulus')\n",
        "else:\n",
        "  print('tidak lulus')\n"
      ],
      "metadata": {
        "colab": {
          "base_uri": "https://localhost:8080/"
        },
        "id": "TwCPjNXWfocV",
        "outputId": "5105cabf-d714-479c-d123-f112a848f56d"
      },
      "execution_count": 132,
      "outputs": [
        {
          "output_type": "stream",
          "name": "stdout",
          "text": [
            "masukkan nilai: 70\n",
            "masukkan jumlah kehadiran:67\n",
            "lulus\n"
          ]
        }
      ]
    },
    {
      "cell_type": "code",
      "source": [
        "#algoritma cek paritas\n",
        "angka = int(input(\"masukkkan angka: \"))\n",
        "\n",
        "hasil = \"genap\" if angka % 2 else \"ganjil\"\n",
        "\n",
        "print(hasil)"
      ],
      "metadata": {
        "colab": {
          "base_uri": "https://localhost:8080/"
        },
        "id": "5eP9RPeyi_Ia",
        "outputId": "a0478369-a1fb-416f-d09a-dd54895c3e3f"
      },
      "execution_count": 65,
      "outputs": [
        {
          "output_type": "stream",
          "name": "stdout",
          "text": [
            "masukkkan angka: 8\n",
            "ganjil\n"
          ]
        }
      ]
    },
    {
      "cell_type": "markdown",
      "source": [
        "3. Cek Bilangan Positif/Negatif/Nol"
      ],
      "metadata": {
        "id": "DAP4fahSlmN6"
      }
    },
    {
      "cell_type": "code",
      "source": [
        "angka = int(input('masukkan angka: '))\n",
        "\n",
        "if angka > 0:\n",
        "  print('bilangan positif')\n",
        "elif angka < 0:\n",
        "  print(' bilangan negatif')\n",
        "else:\n",
        "  print('nol')"
      ],
      "metadata": {
        "colab": {
          "base_uri": "https://localhost:8080/"
        },
        "id": "CIW5-QD1lk22",
        "outputId": "45606ed9-abf3-4245-8c44-1c4dd2c6cbc5"
      },
      "execution_count": 69,
      "outputs": [
        {
          "output_type": "stream",
          "name": "stdout",
          "text": [
            "masukkan angka: -8\n",
            " bilangan negatif\n"
          ]
        }
      ]
    },
    {
      "cell_type": "markdown",
      "source": [
        "4. Menentukan Kategori Usia"
      ],
      "metadata": {
        "id": "LfzJNMg0nXi5"
      }
    },
    {
      "cell_type": "code",
      "source": [
        "usia = int(input(\"masukkan usia: \"))\n",
        "\n",
        "if usia < 5:\n",
        "  print('balita')\n",
        "elif usia <= 11:\n",
        "  print('anak anak')\n",
        "elif usia <17:\n",
        "  print('remaja')\n",
        "elif usia < 59:\n",
        "  print('dewasa')\n",
        "else:\n",
        "  print('lansia')"
      ],
      "metadata": {
        "colab": {
          "base_uri": "https://localhost:8080/"
        },
        "id": "22JUuDoLkgHT",
        "outputId": "127756d5-1706-49b3-9327-b8036de9fe62"
      },
      "execution_count": 73,
      "outputs": [
        {
          "output_type": "stream",
          "name": "stdout",
          "text": [
            "masukkan usia: 11\n",
            "anak anak\n"
          ]
        }
      ]
    },
    {
      "cell_type": "markdown",
      "source": [
        "5. Hitung Tarif Parkir\n"
      ],
      "metadata": {
        "id": "k_Hf8QL5obTC"
      }
    },
    {
      "cell_type": "code",
      "source": [
        "from datetime import datetime\n",
        "jam_masuk = (input('jam masuk (HH:MM): '))\n",
        "jam_keluar = (input('jam keluar (HH:MM): '))\n",
        "\n",
        "format = \"%H:%M\"\n",
        "jam_masuk = datetime.strptime(jam_masuk, format)\n",
        "jam_keluar = datetime.strptime(jam_keluar, format)\n",
        "\n",
        "durasi = jam_keluar - jam_masuk\n",
        "\n",
        "durasi_jam = round(durasi.total_seconds()//3600)\n",
        "\n",
        "if durasi_jam < 2:\n",
        "   tarif = 5000\n",
        "\n",
        "else:\n",
        "    tarif = (2000*durasi_jam)\n",
        "\n",
        "tarif = min(tarif, 20000)\n",
        "\n",
        "print(f'durasi parkir: {durasi}, tarif: Rp {tarif}')\n"
      ],
      "metadata": {
        "colab": {
          "base_uri": "https://localhost:8080/"
        },
        "id": "_X85lQkzoPA3",
        "outputId": "fc26fa20-d57e-4cdd-81d2-1e1dbee266d1"
      },
      "execution_count": 103,
      "outputs": [
        {
          "output_type": "stream",
          "name": "stdout",
          "text": [
            "jam masuk (HH:MM): 13:14\n",
            "jam keluar (HH:MM): 16:56\n",
            "durasi parkir: 3:42:00, tarif: Rp 6000\n"
          ]
        }
      ]
    },
    {
      "cell_type": "markdown",
      "source": [
        "6. Cek Login Sederhana"
      ],
      "metadata": {
        "id": "Ze-mB11440x2"
      }
    },
    {
      "cell_type": "code",
      "source": [
        "username = 'admin'\n",
        "password = '1234'\n",
        "\n",
        "username_input = input('masukkan username: ')\n",
        "password_input = input('masukkan password: ')\n",
        "\n",
        "if username_input == username and password_input == password:\n",
        "  print('login berhasil')\n",
        "else:\n",
        "  print('login gagal')"
      ],
      "metadata": {
        "colab": {
          "base_uri": "https://localhost:8080/"
        },
        "id": "ZlfvD6sw4xMs",
        "outputId": "434e34ba-4704-490a-ecb0-25f584734a57"
      },
      "execution_count": 109,
      "outputs": [
        {
          "output_type": "stream",
          "name": "stdout",
          "text": [
            "masukkan username: admin\n",
            "masukkan password: 1234\n",
            "login berhasil\n"
          ]
        }
      ]
    },
    {
      "cell_type": "markdown",
      "source": [
        "One-Liner If (Cek Genap/Ganjil)"
      ],
      "metadata": {
        "id": "1NmUwhM06DeE"
      }
    },
    {
      "cell_type": "code",
      "source": [
        "status = 'genap' if int(input('masukkan angka: '))%2 == 0 else 'ganjil'\n",
        "print(status)"
      ],
      "metadata": {
        "colab": {
          "base_uri": "https://localhost:8080/"
        },
        "id": "cM0iA4berjxl",
        "outputId": "ec07b928-a86b-4854-88ba-6b3e8173267e"
      },
      "execution_count": 114,
      "outputs": [
        {
          "output_type": "stream",
          "name": "stdout",
          "text": [
            "masukkan angka: 9\n",
            "ganjil\n"
          ]
        }
      ]
    },
    {
      "cell_type": "markdown",
      "source": [
        "8. Menu Restoran dengan Match-Case"
      ],
      "metadata": {
        "id": "F5WnhKU97V4C"
      }
    },
    {
      "cell_type": "code",
      "source": [
        "#algoritma pilh menu\n",
        "\n",
        "menu = int(input(\"masukkan kode menu (1-3): \"))\n",
        "\n",
        "match menu:\n",
        "  case 1:\n",
        "    print('nasi goreng')\n",
        "\n",
        "  case 2:\n",
        "    print('mie ayam')\n",
        "\n",
        "  case 3:\n",
        "    print('soto ayam')\n",
        "\n",
        "  case _:\n",
        "    print('tidak tersedia')"
      ],
      "metadata": {
        "colab": {
          "base_uri": "https://localhost:8080/"
        },
        "id": "OSNb4rRM6HZD",
        "outputId": "e2a96192-35da-4ab3-bf9c-6ba2040dddf0"
      },
      "execution_count": 116,
      "outputs": [
        {
          "output_type": "stream",
          "name": "stdout",
          "text": [
            "masukkan kode menu (1-3): 3\n",
            "soto ayam\n"
          ]
        }
      ]
    },
    {
      "cell_type": "markdown",
      "source": [
        "9. Studi Kasus Nyata – Program Penentuan Diskon"
      ],
      "metadata": {
        "id": "sEsTiEyV8JUH"
      }
    },
    {
      "cell_type": "code",
      "source": [
        "\n",
        "\n",
        "barang = input(\"nama barang\")\n",
        "harga = float (input('harga barang: '))\n",
        "jumlah = int (input ('jumlah barang: '))\n",
        "\n",
        "total = harga * jumlah\n",
        "\n",
        "#aturan diskon\n",
        "if total >= 500000:\n",
        "    diskon = 0.2\n",
        "elif total >= 250000:\n",
        "    diskon = 0.1\n",
        "else:\n",
        "    diskon = 0\n",
        "\n",
        "potongan = total * diskon\n",
        "bayar = total-potongan\n",
        "\n",
        "print (\"\\n ===== Struk belanja ======\")\n",
        "print (f'barang : {barang}')\n",
        "print (f'jumlah : {total}')\n",
        "print (f'total : Rp {total}')\n",
        "print (f'diskon : {diskon * 100}%')\n",
        "print(f'bayar : Rp {bayar}')"
      ],
      "metadata": {
        "colab": {
          "base_uri": "https://localhost:8080/"
        },
        "id": "Qm3pwy7T03dn",
        "outputId": "3c790cdc-2f35-4057-8363-fc6346ef8653"
      },
      "execution_count": 119,
      "outputs": [
        {
          "output_type": "stream",
          "name": "stdout",
          "text": [
            "nama barangnyamnyam\n",
            "harga barang: 2500\n",
            "jumlah barang: 400\n",
            "\n",
            " ===== Struk belanja ======\n",
            "barang : nyamnyam\n",
            "jumlah : 1000000.0\n",
            "total : Rp 1000000.0\n",
            "diskon : 20.0%\n",
            "bayar : Rp 800000.0\n"
          ]
        }
      ]
    },
    {
      "cell_type": "code",
      "source": [],
      "metadata": {
        "id": "zXuD1Fiq9X-z"
      },
      "execution_count": 117,
      "outputs": []
    }
  ]
}