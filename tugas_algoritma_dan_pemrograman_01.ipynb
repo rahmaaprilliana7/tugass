{
  "nbformat": 4,
  "nbformat_minor": 0,
  "metadata": {
    "colab": {
      "provenance": []
    },
    "kernelspec": {
      "name": "python3",
      "display_name": "Python 3"
    },
    "language_info": {
      "name": "python"
    }
  },
  "cells": [
    {
      "cell_type": "markdown",
      "source": [
        "3.\tMenghitung Volume Balok"
      ],
      "metadata": {
        "id": "0RfBBX74J5Eb"
      }
    },
    {
      "cell_type": "code",
      "execution_count": null,
      "metadata": {
        "colab": {
          "base_uri": "https://localhost:8080/"
        },
        "id": "m1WKsTk0J259",
        "outputId": "9fea47bc-c438-4f76-e513-2850349fd7a3"
      },
      "outputs": [
        {
          "output_type": "stream",
          "name": "stdout",
          "text": [
            "masukkan lebar: 335435435438184.0566565656\n",
            "masukkan panjang: 35456359559565565656565656565656565656565656565656.56565656565656565656565656\n",
            "masukkan tinggi: 0.1555655\n",
            "volume balok tersebut adalah:  1.8501901803521092e+63\n"
          ]
        }
      ],
      "source": [
        "l = float(input (\"masukkan lebar: \"))\n",
        "p= float (input(\"masukkan panjang: \"))\n",
        "t= float(input(\"masukkan tinggi: \"))\n",
        "v= l*p*t\n",
        "print(\"volume balok tersebut adalah: \", v)"
      ]
    },
    {
      "cell_type": "markdown",
      "source": [
        "4.\tKonversi Waktu (Detik ke Jam:Menit:Detik)"
      ],
      "metadata": {
        "id": "RgygFb2GLYvJ"
      }
    },
    {
      "cell_type": "code",
      "source": [
        "total_detik=int(input(\"masukkan total detik: \"))\n",
        "jam= round(total_detik/3600)\n",
        "sisa= total_detik%3600\n",
        "menit= round(sisa/60)\n",
        "detik= sisa%60\n",
        "print(jam, 'jam', menit, \"menit\", detik, \"detik\")"
      ],
      "metadata": {
        "colab": {
          "base_uri": "https://localhost:8080/"
        },
        "id": "-beYnpHfLRgJ",
        "outputId": "9fd30226-5792-4aa4-f0ce-93b5d035e4cd"
      },
      "execution_count": null,
      "outputs": [
        {
          "output_type": "stream",
          "name": "stdout",
          "text": [
            "masukkan total detik: 1212\n",
            "0 jam 20 menit 12 detik\n"
          ]
        }
      ]
    },
    {
      "cell_type": "markdown",
      "source": [
        "5.\tRata-rata Nilai Tiga Mata Kuliah"
      ],
      "metadata": {
        "id": "hORoVxD8A2xh"
      }
    },
    {
      "cell_type": "code",
      "source": [
        "nilai_A= float(input(\"nilai A: \"))\n",
        "nilai_B= float(input(\"nilai B: \"))\n",
        "nilai_C= float(input(\"nilai C: \"))\n",
        "nilai_rata_rata= float(nilai_A + nilai_B + nilai_C)/3\n",
        "\n",
        "if nilai_rata_rata >= 60:\n",
        "    print(\"nilai rata rata anda: \", nilai_rata_rata , \"selamat anda lulus\")\n",
        "else :\n",
        "    print(\"nilai rata rata anda: \", nilai_rata_rata , \"maaf anda tidak lulus\")"
      ],
      "metadata": {
        "id": "UJuD9Nc0-Ow_",
        "colab": {
          "base_uri": "https://localhost:8080/"
        },
        "outputId": "9be461a1-5c7f-488d-f567-535fa7a67134"
      },
      "execution_count": null,
      "outputs": [
        {
          "output_type": "stream",
          "name": "stdout",
          "text": [
            "nilai A: 35\n",
            "nilai B: 20\n",
            "nilai C: 100\n",
            "nilai rata rata anda:  51.666666666666664 maaf anda tidak lulus\n"
          ]
        }
      ]
    },
    {
      "cell_type": "markdown",
      "source": [
        "6.\tMenghitung Diskon Belanja"
      ],
      "metadata": {
        "id": "2jt14HnpSlJ6"
      }
    },
    {
      "cell_type": "code",
      "source": [
        "harga_A=int(input(\"masukkan harga barang A: \"))\n",
        "harga_B= int(input(\"masukkan harga barang B: \"))\n",
        "harga_C= int(input(\"masukkan harga barang C: \"))\n",
        "\n",
        "total_harga= int(harga_A + harga_B + harga_C)\n",
        "\n",
        "if total_harga>=500000:\n",
        "  print (\"total belanja anda\", total_harga , \",selamat! anda mendapat diskon 20%!\")\n",
        "\n",
        "elif total_harga>=250000:\n",
        "  print(\"total belanja anda\", total_harga ,\",selamat anda mendapat diskon 10%!\")\n",
        "\n",
        "else:\n",
        "  print(\"total belanja anda\", total_harga , \",sayang sekali, anda tidak mendapat diskon\")"
      ],
      "metadata": {
        "colab": {
          "base_uri": "https://localhost:8080/"
        },
        "id": "lJtORWlqE1kz",
        "outputId": "8d5f1cfe-7ecd-43d6-fb4e-1f926fd9b5b8"
      },
      "execution_count": null,
      "outputs": [
        {
          "output_type": "stream",
          "name": "stdout",
          "text": [
            "masukkan harga barang A: 85000\n",
            "masukkan harga barang B: 650000\n",
            "masukkan harga barang C: 50000\n",
            "total belanja anda 785000 ,selamat! anda mendapat diskon 20%!\n"
          ]
        }
      ]
    },
    {
      "cell_type": "code",
      "source": [],
      "metadata": {
        "id": "4resc9rvUmTP"
      },
      "execution_count": null,
      "outputs": []
    }
  ]
}